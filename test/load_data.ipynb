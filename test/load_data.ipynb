{
 "cells": [
  {
   "metadata": {
    "ExecuteTime": {
     "end_time": "2024-09-11T09:17:33.454684Z",
     "start_time": "2024-09-11T09:17:33.445681Z"
    }
   },
   "cell_type": "code",
   "source": [
    "import os\n",
    "\n",
    "os.environ[\"http_proxy\"] = \"http://127.0.0.1:7890\"\n",
    "os.environ[\"https_proxy\"] = \"http://127.0.0.1:7890\""
   ],
   "id": "cef02de214a1962f",
   "outputs": [],
   "execution_count": 8
  },
  {
   "cell_type": "code",
   "id": "initial_id",
   "metadata": {
    "collapsed": true,
    "ExecuteTime": {
     "end_time": "2024-09-11T09:17:39.555552Z",
     "start_time": "2024-09-11T09:17:34.453618Z"
    }
   },
   "source": [
    "\n",
    "from datasets import load_dataset\n",
    "\n",
    "amnesty_qa = load_dataset(\"explodinggradients/amnesty_qa\", \"english_v2\", trust_remote_code=True)\n",
    "data = amnesty_qa[\"eval\"]\n",
    "\n",
    "data"
   ],
   "outputs": [
    {
     "name": "stderr",
     "output_type": "stream",
     "text": [
      "Using the latest cached version of the module from C:\\Users\\ke\\.cache\\huggingface\\modules\\datasets_modules\\datasets\\explodinggradients--amnesty_qa\\d0ed9800191a31943ee52a5c22ee4305e28a33f5edcd9a323802112cff07cc24 (last modified on Wed Sep 11 16:45:13 2024) since it couldn't be found locally at explodinggradients/amnesty_qa, or remotely on the Hugging Face Hub.\n",
      "Repo card metadata block was not found. Setting CardData to empty.\n"
     ]
    },
    {
     "data": {
      "text/plain": [
       "Dataset({\n",
       "    features: ['question', 'ground_truth', 'answer', 'contexts'],\n",
       "    num_rows: 20\n",
       "})"
      ]
     },
     "execution_count": 9,
     "metadata": {},
     "output_type": "execute_result"
    }
   ],
   "execution_count": 9
  },
  {
   "metadata": {
    "ExecuteTime": {
     "end_time": "2024-09-11T09:18:55.055589Z",
     "start_time": "2024-09-11T09:18:40.362381Z"
    }
   },
   "cell_type": "code",
   "source": [
    "rag_dataset = load_dataset(\"neural-bridge/rag-dataset-1200\")\n",
    "rag_dataset"
   ],
   "id": "1dbbf81d20b8f73e",
   "outputs": [
    {
     "name": "stderr",
     "output_type": "stream",
     "text": [
      "Downloading readme: 100%|██████████| 5.15k/5.15k [00:00<00:00, 15.5kB/s]\n",
      "Downloading data: 100%|██████████| 2.32M/2.32M [00:02<00:00, 826kB/s]\n",
      "Downloading data: 100%|██████████| 604k/604k [00:01<00:00, 443kB/s]\n",
      "Generating train split: 100%|██████████| 960/960 [00:00<00:00, 11129.01 examples/s]\n",
      "Generating test split: 100%|██████████| 240/240 [00:00<00:00, 15494.53 examples/s]\n"
     ]
    },
    {
     "data": {
      "text/plain": [
       "DatasetDict({\n",
       "    train: Dataset({\n",
       "        features: ['context', 'question', 'answer'],\n",
       "        num_rows: 960\n",
       "    })\n",
       "    test: Dataset({\n",
       "        features: ['context', 'question', 'answer'],\n",
       "        num_rows: 240\n",
       "    })\n",
       "})"
      ]
     },
     "execution_count": 11,
     "metadata": {},
     "output_type": "execute_result"
    }
   ],
   "execution_count": 11
  },
  {
   "metadata": {
    "ExecuteTime": {
     "end_time": "2024-09-11T09:19:12.738954Z",
     "start_time": "2024-09-11T09:19:12.711231Z"
    }
   },
   "cell_type": "code",
   "source": "rag_dataset[\"test\"]",
   "id": "fa442bf27a74ac89",
   "outputs": [
    {
     "data": {
      "text/plain": [
       "Dataset({\n",
       "    features: ['context', 'question', 'answer'],\n",
       "    num_rows: 240\n",
       "})"
      ]
     },
     "execution_count": 12,
     "metadata": {},
     "output_type": "execute_result"
    }
   ],
   "execution_count": 12
  },
  {
   "metadata": {
    "ExecuteTime": {
     "end_time": "2024-09-11T09:19:38.375493Z",
     "start_time": "2024-09-11T09:19:38.332816Z"
    }
   },
   "cell_type": "code",
   "source": "rag_dataset[\"test\"][\"question\"]",
   "id": "314b22e8a891cce7",
   "outputs": [
    {
     "data": {
      "text/plain": [
       "['What are some of the skills taught in the Trail Patrol Training course?',\n",
       " 'Who was the original owner of the lot of items being sold?',\n",
       " 'What is the main objective of Humanity Road as a non-profit organization?',\n",
       " 'Who were the two convicted killers that escaped from an upstate New York maximum-security prison?',\n",
       " 'Who was the person that came to help when Isaac was sick?',\n",
       " 'What change has been observed in the banking industry in Hong Kong since the 2008 financial crisis?',\n",
       " 'What is a \"Cultural Muslim\" according to Kaighla Um Dayo?',\n",
       " \"Who was providing financial support for Lou's daughter Joan?\",\n",
       " 'What mistakes did the narrator make during his run?',\n",
       " 'Who is the 65th attorney general of New York state?',\n",
       " \"What was the main criticism of Reagan's economic policies according to the context?\",\n",
       " \"What was the cue word for the week's CASology challenge?\",\n",
       " 'How does the person feel about their friends who are not in the middle of the situation with them?',\n",
       " 'What are the main ingredients in the Spicy Kale and Chicken Andouille Soup recipe mentioned in the context?',\n",
       " 'What is the flagship product of Amristar and what are its features?',\n",
       " 'What are some essential features that a website should have according to the context?',\n",
       " 'What has the CSR done to its chartered study section descriptions?',\n",
       " 'Who is the main character in the series suitable for children age 8 to 12?',\n",
       " 'What is the business model of COFCO Corporation?',\n",
       " \"What is the new single from Summer Camp's forthcoming album 'Welcome to Condale'?\",\n",
       " 'What are the three types of licenses that residents can apply for according to the context?',\n",
       " \"What are the activities mentioned in the Children's Ministries update for January 7, 2018?\",\n",
       " 'What were some of the challenges faced by the Spaulding Rehabilitation Hospital Project in Boston, MA?',\n",
       " 'What issue does the user with IP 218.248.78.18 face with their bsnl evdo usb modem?',\n",
       " 'What are some of the features of the yellow paper plates mentioned in the context?',\n",
       " 'What is the main topic of the context?',\n",
       " 'Who are the designers of the Eames Lounge Chair and what is its significance in design history?',\n",
       " 'What are some of the differences between playing Fallout 4 VR on Windows Mixed Reality and HTC Vive?',\n",
       " 'What advice is given to first semester students to help them navigate Berklee and life in general?',\n",
       " 'Who is the executive producer of the Angel & Faith Season Ten comic book series?',\n",
       " 'What were the titles of the research papers presented by the two MAIS students at the ISA-West annual conference in 2017?',\n",
       " 'What activities are the volunteers in the walled garden next to the library in the park engaged in?',\n",
       " 'Who warned Takehito Shirahane about the impending invasion of Earth?',\n",
       " 'What is the primary safety policy of the Primate Rescue Center?',\n",
       " 'What are some of the top restaurants to visit in Las Vegas?',\n",
       " 'How could one enter the contest to win two tickets to see various artists at The Fillmore in Charlotte in 2017?',\n",
       " 'Why did the Korean couple the narrator met use public transport during their journey?',\n",
       " \"What are some practical ways to improve a business's online presence?\",\n",
       " 'Which teams are considered as vulnerable top teams in college basketball according to the context?',\n",
       " 'What percentage of Apple Pay users aged 18 and up also utilize Western Union?',\n",
       " 'Who became the third in NFL history with at least 2,000 scrimmage yards, 10 TDs rushing and more than five TD catches in a season?',\n",
       " 'Who were the two top executives at Vice Media that were put on leave amid a sexual harassment scandal?',\n",
       " 'What are some of the features of the house being sold?',\n",
       " 'What is one feature that differentiates The Trump Network from other health supplement companies?',\n",
       " 'What are the pros and cons of playing Katarina in a game?',\n",
       " 'What are the feelings and thoughts of the bride as she approaches her wedding day?',\n",
       " 'Who returns to the show \"Agents of S.H.I.E.L.D.\" in Season 5 to help Leo Fitz?',\n",
       " \"What is the reviewer's opinion about the 2008 Suzuki Hayabusa™ for street and track use?\",\n",
       " 'What is the craft project being discussed in the blog comments?',\n",
       " 'When will USF play San Jose State in their home-and-home series?',\n",
       " 'What is the purpose of the Open Prep programming cycle in CrossFit?',\n",
       " 'What are some of the demands issued by the Hefazat-e-Islam party at a rally in Dhaka?',\n",
       " 'What are some of the designs featured under the gallery: Graceful Classic Manor with Historical Design Splendor?',\n",
       " 'What is the name of the bakery that Steve Kogler started in 2007?',\n",
       " 'What are the benefits of using Palomo dry oil according to the user?',\n",
       " 'What are some advantages of selling a home in the winter season?',\n",
       " 'Who are the creators of the Seven Figure Cycle?',\n",
       " 'What are some of the fun and stress-free ways to lose weight after the holiday season?',\n",
       " 'What instrument did the individual decide to buy as a graduation gift for themselves?',\n",
       " 'What are some features of the property at 10 Apara Place, Koongamia?',\n",
       " 'What are some potential solutions for the Outlook Send Error?',\n",
       " 'How can one verify the compatibility of Kika Keyboard with Lava Flair P1?',\n",
       " 'Who is the mayor of Clinton seeking his eighth term?',\n",
       " 'Who is Pauline Young and what is her profession?',\n",
       " 'What determines the spiciness of ginger candies?',\n",
       " 'When does Nicola Sturgeon plan to make a decision on whether to back a second referendum on Scottish independence?',\n",
       " 'What is the function of the BK-channel blocker GAL021 in relation to opioid-induced respiratory depression?',\n",
       " 'What is the focus of the research conducted by Adler, P. R., Del Grosso, S. J., Parton, W. J.?',\n",
       " 'What was the business model of the Donald Trump Network?',\n",
       " 'What progress does the writer mention about her struggle with an eating disorder?',\n",
       " 'What is the foundation of sanctification according to the sermon on July 11, 2010?',\n",
       " 'What is the main service provided by A&C PLASTERERSD?',\n",
       " \"What was the feedback received from the publisher and editor about the author's fourth book?\",\n",
       " 'What is the role of a mobile crushing and screening plant in the mining industry?',\n",
       " 'What is one strategy the Rangers are hoping to improve upon in their upcoming games against the Canadiens?',\n",
       " 'What are the ingredients needed to prepare Aloo Tikki?',\n",
       " 'Who is the instructor for the Microsoft Project 2016 Advanced Training Master Class?',\n",
       " 'What were some of the issues reported with the Transit Elevated Bus (TEB) project in China?',\n",
       " 'What are some of the benefits of playing in online casinos?',\n",
       " 'Who were the attacker and the victim in the discussed incident?',\n",
       " 'Who is the famous potter of Mata Ortiz?',\n",
       " 'What are the different food and drink options available at the College?',\n",
       " 'What are some of the improvements suggested for Adobe Lightroom 5.3 and Photoshop?',\n",
       " 'What is the central concern of the conflict theory according to the Marxist statements?',\n",
       " 'What are some of the top tech conferences that took place in 2017?',\n",
       " 'What is the meaning of copious?',\n",
       " 'What are some of the features of the Nikon 70-200mm f/2.8G ED VR II AF-S Nikkor Zoom Lens?',\n",
       " \"What significant financial move did Reliance Communications' Chairman Anil Ambani announce in 2017?\",\n",
       " 'What was the difference in views between Public Protector Busisiwe Mkhwebane and her predecessor Thuli Madonsela on the terms of reference of the judicial commission of inquiry into state capture?',\n",
       " \"What are some of Jesse Oliver's musical influences?\",\n",
       " 'Who was selected to build the expanded Clover Point Pump Station and when is the construction expected to be completed?',\n",
       " 'When will the examination for the RRB Bilaspur Admit Card 2015 be held?',\n",
       " 'Where does the Race take place according to the context?',\n",
       " 'Who are the main characters in the book \"Odd and the Frost Giants\"?',\n",
       " 'Who is the author of the book \"Wolfsbane (Nightshade #2)\"?',\n",
       " 'What are the three elements listed in Section 1 for shaping a gravel road?',\n",
       " \"What is the author's message regarding the bombing in Boston?\",\n",
       " 'When is the Mercedes-AMG GT3, the racing version of the new Mercedes-AMG GT, expected to launch?',\n",
       " 'What is the new model that SLA is adopting for their spring 2018 offerings?',\n",
       " 'What is the minimum schooling required for a massage therapist according to AMTA?',\n",
       " 'What are some of the things the author enjoys about Autumn?',\n",
       " \"Who led the supporters of Venezuela's President Nicolas Maduro's government in a demonstration before the first session of the constitutional assembly in Caracas?\",\n",
       " \"Who are the main defenders of the Throneworld in the novel 'Watchers of the Throne: The Emperor’s Legion'?\",\n",
       " 'Why are the new plans for redeveloping Lathrop Homes facing opposition?',\n",
       " 'What is the rank of Iasi in terms of population among Romanian cities?',\n",
       " \"What is the woman's preference in the context?\",\n",
       " 'What factors can affect the cost of auto insurance premiums?',\n",
       " 'What are some signs that you might be dating the wrong person?',\n",
       " 'Who was Jessie Foster living with in Las Vegas before her disappearance?',\n",
       " 'What are some features of the WHIRLPOOL BATHTUB model AM152JDTS-1Z?',\n",
       " 'What are some of the features and specifications of the Pearl 60 boat named Sea Vision?',\n",
       " 'What is the poem \"River Beauty\" about?',\n",
       " 'What kind of assistance does the Business Assistance Team (B.A.T.) provide to small and medium size businesses in the Novi community?',\n",
       " 'Who succeeded Alvin Rohrs as the president and CEO of Enactus?',\n",
       " \"What are some of the factors contributing to Turkey's popularity as a sailing destination?\",\n",
       " \"What is one of David Bahm's favorite projects he has worked on?\",\n",
       " 'What is the purpose of the messages mentioned in the context?',\n",
       " \"What is the mission of Sunny Nunan's company, Core24?\",\n",
       " 'What inspired Seth and Brennen to return to old school country music?',\n",
       " 'What is the origin of the name Sunflowerman?',\n",
       " 'Who were Stephen and Constance Nunn and what was their profession?',\n",
       " 'Why did the house on the Scarborough Bluffs never sell despite its attractive features and multiple price reductions?',\n",
       " 'What is a legal norm defined as?',\n",
       " 'What are some healthy habits to manage hypertension?',\n",
       " 'What are some benefits of using an essential oil diffuser?',\n",
       " 'Who is Luther and why does he want to join the group?',\n",
       " 'What are the ingredients used to make stuffed squash?',\n",
       " 'What is the material used to manufacture Dino Grip Anti-Slip Decking Strips and what properties does it provide?',\n",
       " 'What are the operating hours of Little Learning School Pyrmont?',\n",
       " 'Who created the \"Corn Growers Guidebook\" and what is its purpose?',\n",
       " 'What tool did the authors use to collaboratively write their story?',\n",
       " 'What are some of the top fashion trends for Spring 2013?',\n",
       " \"How does Netflix's recommendation system help connect unknown movies to their potential audience?\",\n",
       " 'What changes did Amanda make in her life after realizing the negative impact of always saying \"yes\"?',\n",
       " \"What is the author's sentiment towards the idea of Christmas in the given year?\",\n",
       " 'What are some of the benefits of Amazon Prime membership?',\n",
       " 'What measures were taken to slow the spreading of the sand dunes at Sandbanks Provincial Park in the 1950s?',\n",
       " 'What solution did the group find for their toilet problem in the morning?',\n",
       " 'What is the setting and theme of the game Kingdom Come: Deliverance?',\n",
       " \"What is the overarching principle that the judge uses to evaluate the parent's competing claims in a divorce case?\",\n",
       " 'What are some features of the OurHome app that make it unique for organizing household chores?',\n",
       " 'What are some advantages of mobile websites over mobile apps?',\n",
       " \"What was the result of the narrator's participation in the Fin Del Verano stage race?\",\n",
       " 'Who is the President and CEO of Solvusoft Corporation?',\n",
       " 'What is the \"Messianic secret\" theme in the Gospel of Mark?',\n",
       " 'Who is the Chairman of the Civil Committee of the District Court?',\n",
       " 'How long has the author been running their blog?',\n",
       " 'What is the active component in garcinia cambogia extract and what is its potential effect on weight loss?',\n",
       " 'When does the festival at the Parabola Arts Centre in Cheltenham take place?',\n",
       " \"Who were Franklin Detraz's parents and where were they born?\",\n",
       " 'How many hotels are there in Camocim, Brazil and what are the price ranges?',\n",
       " 'What therapy method does Nataliya Rusetskaya use in her marriage therapy approach?',\n",
       " 'What was the USA considering using the Kurds as in 2006?',\n",
       " 'What is the name given to the scarf that was described as looking like moss?',\n",
       " 'What types of fruit does the welfare orchard run by the Church grow?',\n",
       " 'Who is the new coach for the Elon football team?',\n",
       " 'What is the history and significance of the Shakespeare and Company bookshop in Paris?',\n",
       " 'What is the purpose of the AskU app and how does it benefit charities?',\n",
       " 'What is included in the cost of the Fish Fry event at Our Lady of the Rosary Church?',\n",
       " 'What is the purpose of a credit counseling program in Holden, Louisiana?',\n",
       " 'What is the genre of the song \"My Way\" by Frank Sinatra?',\n",
       " 'What measures is Satyam Computer Services considering to salvage the firm according to Deepak Parekh?',\n",
       " 'What are the two sites the author noticed a big difference in terms of digital etiquette?',\n",
       " 'What should be done if you are using a FlightGear version older than 2.0?',\n",
       " 'Who won the award for the most elegant carriage, horses and driver at the Royal Horse Show?',\n",
       " 'What ingredients are used to make the smoothie with V8 juice mentioned in the context?',\n",
       " \"What is suggested as the starting point for Pakistan's recovery from violence and instability?\",\n",
       " 'What is the focal point of service while in the Peace Corps according to the narrator?',\n",
       " 'Who is the Citizen of the Year in Whitchurch town?',\n",
       " 'What unique feature does the Costa Verde Hotel in Manuel Antonio have?',\n",
       " 'Who is considered one of the top nuclear physicists in the country and has a PhD in theoretical physics from Stanford?',\n",
       " 'What is the purpose of a thesis or dissertation at Penn State University according to the Graduate School section of the ETD database?',\n",
       " 'What does the acronym AALL stand for?',\n",
       " 'What could be the potential consequence of reductions in investments and low oil prices according to the study mentioned in the context?',\n",
       " 'What is the purpose of a storyboard in animated video production?',\n",
       " 'Who replaced the injured captain Andrew Amonde in the Kenyan rugby team?',\n",
       " 'What materials does Renee use to create her mixed media canvas?',\n",
       " 'What materials are needed to make a Yo-Yo thimble case?',\n",
       " \"What is the author's opinion on the actions of PFC Bradley Manning and Edward Snowden?\",\n",
       " \"What role did the author's mother play in the lives of the two girls mentioned in the context?\",\n",
       " 'How can you open a Word document on a Mac without having to download any special program?',\n",
       " 'Why did the author have to consolidate their storage sheds into one?',\n",
       " 'What is the quarrying production line of Peridot/Olivine mainly referred to?',\n",
       " 'What is the favorite color of the husband mentioned in the context?',\n",
       " 'What is the name of the place that was established by Tumangas and his tribe?',\n",
       " 'What languages is the author learning at the school?',\n",
       " 'What are the three sets of tags needed in the governance note for organizing a project in Springpad?',\n",
       " \"What is the most important point to attend to according to George Muller's quote?\",\n",
       " 'What is the purpose of peer review in student writing?',\n",
       " 'What is the main use of the past perfect in storytelling?',\n",
       " 'What will happen to the votes from the week when no one was eliminated on the show?',\n",
       " 'What is the name of the son whose nursery is being described?',\n",
       " 'What is the purpose of Ensure Plus according to the context?',\n",
       " 'How should the annual leave policy be communicated to the employees?',\n",
       " 'What is the purpose of the Gara Pagos series in mobile crusher?',\n",
       " 'What kind of services does CompuSage Limited provide?',\n",
       " 'What sport did Angela Kay Cook play in the Special Olympics?',\n",
       " 'What is the main gift-giving day in Spain?',\n",
       " 'Who is the elected leader of Myanmar and what is her stance on the Rohingya minority?',\n",
       " \"What does the leader Jaebeom attribute the group's popularity to?\",\n",
       " 'Who was the Airbus A300B4-622R first leased to after being accepted by Ansett Worldwide Air Services?',\n",
       " \"What are Kristina31's professions?\",\n",
       " 'What are the criticisms raised against Oprah Winfrey regarding her magazine covers?',\n",
       " \"What does the author mistake the word 'hew' for in the context?\",\n",
       " 'Is the first version of the Sandbox mod fully completed?',\n",
       " 'What are the operating hours for the facility on Saturdays and Sundays starting from August 14?',\n",
       " 'What changes does the author observe in their son when he turns 18?',\n",
       " 'What services does Steve from Marla Custom Blinds offer?',\n",
       " 'What are some benefits of walking regularly?',\n",
       " \"What was the user's favorite IRC channel?\",\n",
       " 'What are some of the uses for the mobile homes produced?',\n",
       " 'What is the purpose of the Grass Roots Community Activist Movement (GRCAM)?',\n",
       " 'What measures does the company take to ensure the quality of their furniture products?',\n",
       " 'Where did the culture of drag racing originate?',\n",
       " 'What are the risks of using pirated software?',\n",
       " 'What amenities does the Ayre Hotel Rosellon in Barcelona offer?',\n",
       " 'When and where will the XXIII edition of the games be celebrated?',\n",
       " 'What is the current situation of the dental service in Shetland according to NHS Shetland?',\n",
       " \"What event marked the author's fascination with Alden Richards and Maine Mendoza?\",\n",
       " 'Who was named the Frederick and Jan Mayer Director of the Denver Art Museum in 2010?',\n",
       " 'What are some of the features of the Quik - GoPro Video Editor app?',\n",
       " 'What is the difference between the work of Nostradamus and trendspotting according to Marian Salzman?',\n",
       " 'What was the primary goal of the partnership between The Oklahoma Association of Conservation Districts, Western Farmers Electric Cooperative, and The Oklahoma Conservation Commission in 2008?',\n",
       " 'What are the four different universes in the Spiderman: Shattered Dimensions game?',\n",
       " 'What were the activities included in the assessment day for the Institute of Direct Marketing Summer School?',\n",
       " 'What are some of the products and services mentioned in the context?',\n",
       " 'What is the special offer for the complete 5 DVD set?',\n",
       " 'What is one possible solution to fix the Code 10 error?',\n",
       " 'When and where was the Veterans Day Celebration in Grape Day Park held in 2014?',\n",
       " 'What are some of the ways a car accident attorney can assist you in a case of a car accident?',\n",
       " 'What type of storage does Server redundant connection use for disk storage?',\n",
       " 'Who did Marlene Mallicoat have a session with?',\n",
       " 'Who scored twice against Heidelberg United at AAMI Park last Sunday?',\n",
       " 'Who is a supplier of PVC Panels in China?',\n",
       " 'What are some features of the 1965 Shelby Cobra replica?',\n",
       " 'Who was Stanley Meyer and what was his controversial invention?',\n",
       " \"What is the key instrument of choice in the area of Gurteen, Co. Sligo, as per the Coleman Heritage Centre's music archive?\",\n",
       " 'What was the purpose of the monthly newsletter produced by the Monadnock Folklore Society from November 1981 to February 1983?',\n",
       " 'What is the sale price of the 2117 of Sweden Bjorkliden Fleece for women?',\n",
       " 'What was the number of agricultural tractors in Guinea in the year 2000?']"
      ]
     },
     "execution_count": 13,
     "metadata": {},
     "output_type": "execute_result"
    }
   ],
   "execution_count": 13
  },
  {
   "metadata": {},
   "cell_type": "code",
   "outputs": [],
   "execution_count": null,
   "source": "",
   "id": "44e649a5c2eed9cd"
  }
 ],
 "metadata": {
  "kernelspec": {
   "display_name": "Python 3",
   "language": "python",
   "name": "python3"
  },
  "language_info": {
   "codemirror_mode": {
    "name": "ipython",
    "version": 2
   },
   "file_extension": ".py",
   "mimetype": "text/x-python",
   "name": "python",
   "nbconvert_exporter": "python",
   "pygments_lexer": "ipython2",
   "version": "2.7.6"
  }
 },
 "nbformat": 4,
 "nbformat_minor": 5
}
